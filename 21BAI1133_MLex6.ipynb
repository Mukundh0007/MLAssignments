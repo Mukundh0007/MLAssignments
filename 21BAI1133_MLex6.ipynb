{
 "cells": [
  {
   "cell_type": "markdown",
   "id": "2a8788a9",
   "metadata": {},
   "source": [
    "# 21BAI1133 - Mukundh J"
   ]
  },
  {
   "cell_type": "markdown",
   "id": "2e48dc16",
   "metadata": {},
   "source": [
    "# Naive Bayes - ML Lab assignment 6"
   ]
  },
  {
   "cell_type": "markdown",
   "id": "c53eb7fc",
   "metadata": {},
   "source": [
    "# Q1. Play Cricket \n",
    "Suppose you want to build Naïve Bayes classifier for predicting whether a cricket match will be played in the given weather conditions or not. Here the weather conditions are described by features outlook, temperature, humidity and wind. The target is play with two class labels Yes and No.  (Dataset:  play.csv)\n"
   ]
  },
  {
   "cell_type": "markdown",
   "id": "3cfa86ab",
   "metadata": {},
   "source": [
    "a.Implement Naïve Bayes classifier which must\n",
    "i]Print the class prior probabilities form the training set\n",
    "ii]Classify the test sample  <Rain, Cool, High>. Need to print likelihood for  <Rain, Cool, High>  and also class conditional probabilities for “YES” and “NO” classes. "
   ]
  },
  {
   "cell_type": "markdown",
   "id": "d8dc49d8",
   "metadata": {},
   "source": [
    "b.Use sklearn CategoricalNB to validate the results obtained above."
   ]
  },
  {
   "cell_type": "code",
   "execution_count": 1,
   "id": "4547e867",
   "metadata": {},
   "outputs": [],
   "source": [
    "import numpy as np\n",
    "import pandas as pd\n",
    "import matplotlib.pyplot as plt\n",
    "import seaborn as sns\n",
    "from sklearn.metrics import accuracy_score"
   ]
  },
  {
   "cell_type": "code",
   "execution_count": 2,
   "id": "6992ae73",
   "metadata": {},
   "outputs": [
    {
     "data": {
      "text/html": [
       "<div>\n",
       "<style scoped>\n",
       "    .dataframe tbody tr th:only-of-type {\n",
       "        vertical-align: middle;\n",
       "    }\n",
       "\n",
       "    .dataframe tbody tr th {\n",
       "        vertical-align: top;\n",
       "    }\n",
       "\n",
       "    .dataframe thead th {\n",
       "        text-align: right;\n",
       "    }\n",
       "</style>\n",
       "<table border=\"1\" class=\"dataframe\">\n",
       "  <thead>\n",
       "    <tr style=\"text-align: right;\">\n",
       "      <th></th>\n",
       "      <th>day</th>\n",
       "      <th>outlook</th>\n",
       "      <th>temp</th>\n",
       "      <th>humidity</th>\n",
       "      <th>wind</th>\n",
       "      <th>play</th>\n",
       "    </tr>\n",
       "  </thead>\n",
       "  <tbody>\n",
       "    <tr>\n",
       "      <th>0</th>\n",
       "      <td>D1</td>\n",
       "      <td>Sunny</td>\n",
       "      <td>Hot</td>\n",
       "      <td>High</td>\n",
       "      <td>Weak</td>\n",
       "      <td>No</td>\n",
       "    </tr>\n",
       "    <tr>\n",
       "      <th>1</th>\n",
       "      <td>D2</td>\n",
       "      <td>Sunny</td>\n",
       "      <td>Hot</td>\n",
       "      <td>High</td>\n",
       "      <td>Strong</td>\n",
       "      <td>No</td>\n",
       "    </tr>\n",
       "    <tr>\n",
       "      <th>2</th>\n",
       "      <td>D3</td>\n",
       "      <td>Overcast</td>\n",
       "      <td>Hot</td>\n",
       "      <td>High</td>\n",
       "      <td>Weak</td>\n",
       "      <td>Yes</td>\n",
       "    </tr>\n",
       "    <tr>\n",
       "      <th>3</th>\n",
       "      <td>D4</td>\n",
       "      <td>Rain</td>\n",
       "      <td>Mild</td>\n",
       "      <td>High</td>\n",
       "      <td>Weak</td>\n",
       "      <td>Yes</td>\n",
       "    </tr>\n",
       "    <tr>\n",
       "      <th>4</th>\n",
       "      <td>D5</td>\n",
       "      <td>Rain</td>\n",
       "      <td>Cool</td>\n",
       "      <td>Normal</td>\n",
       "      <td>Weak</td>\n",
       "      <td>Yes</td>\n",
       "    </tr>\n",
       "  </tbody>\n",
       "</table>\n",
       "</div>"
      ],
      "text/plain": [
       "  day   outlook  temp humidity    wind play\n",
       "0  D1     Sunny   Hot     High    Weak   No\n",
       "1  D2     Sunny   Hot     High  Strong   No\n",
       "2  D3  Overcast   Hot     High    Weak  Yes\n",
       "3  D4      Rain  Mild     High    Weak  Yes\n",
       "4  D5      Rain  Cool   Normal    Weak  Yes"
      ]
     },
     "execution_count": 2,
     "metadata": {},
     "output_type": "execute_result"
    }
   ],
   "source": [
    "df=pd.read_csv('play.csv')\n",
    "df.head()"
   ]
  },
  {
   "cell_type": "code",
   "execution_count": 3,
   "id": "4dc31ead",
   "metadata": {},
   "outputs": [],
   "source": [
    "X = df.iloc[:,1:-1]\n",
    "y = df['play']"
   ]
  },
  {
   "cell_type": "code",
   "execution_count": 4,
   "id": "e1c9e0d6",
   "metadata": {},
   "outputs": [],
   "source": [
    "from sklearn.model_selection import train_test_split\n",
    "X_train, X_test, y_train, y_test = train_test_split(X, y, test_size=0.25, random_state=42)\n",
    "X_train = X_train.values\n",
    "X_test = X_test.values\n",
    "y_train = y_train.values\n",
    "y_test = y_test.values"
   ]
  },
  {
   "cell_type": "code",
   "execution_count": 5,
   "id": "ebfb2413",
   "metadata": {},
   "outputs": [],
   "source": [
    "from collections import defaultdict\n",
    "\n",
    "class NaiveBayesClassifier:\n",
    "    def __init__(self):\n",
    "        self.class_probabilities = {}\n",
    "        self.feature_probabilities = defaultdict(lambda: defaultdict(lambda: defaultdict(int)))\n",
    "\n",
    "    def fit(self, X, y):\n",
    "        self.class_probabilities = defaultdict(int)\n",
    "\n",
    "        # Count the occurrences of each class\n",
    "        for class_label in y:\n",
    "            self.class_probabilities[class_label] += 1\n",
    "\n",
    "        # Calculate class probabilities\n",
    "        num_samples = len(y)\n",
    "        for class_label, count in self.class_probabilities.items():\n",
    "            self.class_probabilities[class_label] = count / num_samples\n",
    "\n",
    "        # Count the occurrences of features for each class\n",
    "        for i in range(len(X)):\n",
    "            features = X[i]\n",
    "            class_label = y[i]\n",
    "\n",
    "            for feature_index, value in enumerate(features):\n",
    "                self.feature_probabilities[feature_index][class_label][value] += 1\n",
    "\n",
    "        # Calculate the feature probabilities with Laplace smoothing\n",
    "        num_features = len(self.feature_probabilities)\n",
    "        for feature_index in range(num_features):\n",
    "            for class_label in self.class_probabilities.keys():\n",
    "                total_count = sum(self.feature_probabilities[feature_index][class_label].values())\n",
    "                num_unique_values = len(self.feature_probabilities[feature_index][class_label])\n",
    "\n",
    "                for value in self.feature_probabilities[feature_index][class_label]:\n",
    "                    self.feature_probabilities[feature_index][class_label][value] = \\\n",
    "                        (self.feature_probabilities[feature_index][class_label][value] + 1) / (total_count + num_unique_values)\n",
    "\n",
    "    def predict(self, X):\n",
    "        predictions = []\n",
    "\n",
    "        for features in X:\n",
    "            max_probability = float('-inf')\n",
    "            predicted_class = None\n",
    "\n",
    "            for class_label in self.class_probabilities.keys():\n",
    "                probability = np.log(self.class_probabilities[class_label])\n",
    "\n",
    "                for feature_index, value in enumerate(features):\n",
    "                    # Handle unseen values with Laplace smoothing\n",
    "                    smoothed_prob = self.feature_probabilities[feature_index][class_label].get(value, 1 / len(self.class_probabilities))\n",
    "                    probability += np.log(smoothed_prob)\n",
    "\n",
    "                if probability > max_probability:\n",
    "                    max_probability = probability\n",
    "                    predicted_class = class_label\n",
    "\n",
    "            predictions.append(predicted_class)\n",
    "\n",
    "        return predictions\n"
   ]
  },
  {
   "cell_type": "code",
   "execution_count": 6,
   "id": "74f23ab0",
   "metadata": {},
   "outputs": [],
   "source": [
    "nb = NaiveBayesClassifier()\n",
    "nb.fit(X_train, y_train)"
   ]
  },
  {
   "cell_type": "code",
   "execution_count": 7,
   "id": "f844fa20",
   "metadata": {},
   "outputs": [],
   "source": [
    "y_pred = nb.predict(X_test)"
   ]
  },
  {
   "cell_type": "code",
   "execution_count": 8,
   "id": "6181349e",
   "metadata": {},
   "outputs": [
    {
     "data": {
      "text/plain": [
       "['Yes', 'No', 'No', 'Yes']"
      ]
     },
     "execution_count": 8,
     "metadata": {},
     "output_type": "execute_result"
    }
   ],
   "source": [
    "y_pred"
   ]
  },
  {
   "cell_type": "code",
   "execution_count": 9,
   "id": "02f949c9",
   "metadata": {},
   "outputs": [
    {
     "data": {
      "text/plain": [
       "array(['Yes', 'Yes', 'No', 'Yes'], dtype=object)"
      ]
     },
     "execution_count": 9,
     "metadata": {},
     "output_type": "execute_result"
    }
   ],
   "source": [
    "y_test"
   ]
  },
  {
   "cell_type": "code",
   "execution_count": 10,
   "id": "7afcada4",
   "metadata": {},
   "outputs": [
    {
     "data": {
      "text/plain": [
       "0.75"
      ]
     },
     "execution_count": 10,
     "metadata": {},
     "output_type": "execute_result"
    }
   ],
   "source": [
    "accuracy = accuracy_score(y_test, y_pred)\n",
    "accuracy"
   ]
  },
  {
   "cell_type": "code",
   "execution_count": 11,
   "id": "a5c9f3aa",
   "metadata": {},
   "outputs": [
    {
     "data": {
      "image/png": "[encoded data removed]",
      "text/plain": [
       "<Figure size 640x480 with 1 Axes>"
      ]
     },
     "metadata": {},
     "output_type": "display_data"
    }
   ],
   "source": [
    "plt.plot(y_pred, label='Predicted')\n",
    "plt.plot(y_test, label='Actual')\n",
    "plt.legend()\n",
    "plt.show()"
   ]
  },
  {
   "cell_type": "markdown",
   "id": "88748b21",
   "metadata": {},
   "source": [
    "A deviation has occured in the classification of the second set of data"
   ]
  },
  {
   "cell_type": "markdown",
   "id": "a72d848c",
   "metadata": {},
   "source": [
    "# a"
   ]
  },
  {
   "cell_type": "code",
   "execution_count": 12,
   "id": "50e0c7c6",
   "metadata": {},
   "outputs": [
    {
     "name": "stdout",
     "output_type": "stream",
     "text": [
      "['Yes']\n"
     ]
    }
   ],
   "source": [
    "print(nb.predict([['Rain','Cool','High','Weak']]))"
   ]
  },
  {
   "cell_type": "code",
   "execution_count": 13,
   "id": "1815221f",
   "metadata": {},
   "outputs": [
    {
     "name": "stdout",
     "output_type": "stream",
     "text": [
      "['No']\n"
     ]
    }
   ],
   "source": [
    "print(nb.predict([['Rain','Cool','High','Strong']]))"
   ]
  },
  {
   "cell_type": "markdown",
   "id": "234e4bc2",
   "metadata": {},
   "source": [
    "therefore the prediction for <Rain, Cool, High>:\n",
    "at wind =Weak ==> 'Yes';\n",
    "at wind =Strong ==>'No'"
   ]
  },
  {
   "cell_type": "markdown",
   "id": "37986c49",
   "metadata": {},
   "source": [
    "# b"
   ]
  },
  {
   "cell_type": "code",
   "execution_count": 14,
   "id": "c77a9584",
   "metadata": {},
   "outputs": [],
   "source": [
    "from sklearn.naive_bayes import CategoricalNB\n",
    "from sklearn.preprocessing import LabelEncoder\n",
    "from sklearn.preprocessing import OneHotEncoder"
   ]
  },
  {
   "cell_type": "code",
   "execution_count": 15,
   "id": "9199f939",
   "metadata": {},
   "outputs": [],
   "source": [
    "X = df.iloc[:,1:-1]\n",
    "y = df['play']"
   ]
  },
  {
   "cell_type": "code",
   "execution_count": 16,
   "id": "f491aaae",
   "metadata": {},
   "outputs": [
    {
     "data": {
      "text/html": [
       "<div>\n",
       "<style scoped>\n",
       "    .dataframe tbody tr th:only-of-type {\n",
       "        vertical-align: middle;\n",
       "    }\n",
       "\n",
       "    .dataframe tbody tr th {\n",
       "        vertical-align: top;\n",
       "    }\n",
       "\n",
       "    .dataframe thead th {\n",
       "        text-align: right;\n",
       "    }\n",
       "</style>\n",
       "<table border=\"1\" class=\"dataframe\">\n",
       "  <thead>\n",
       "    <tr style=\"text-align: right;\">\n",
       "      <th></th>\n",
       "      <th>outlook</th>\n",
       "      <th>temp</th>\n",
       "      <th>humidity</th>\n",
       "      <th>wind</th>\n",
       "    </tr>\n",
       "  </thead>\n",
       "  <tbody>\n",
       "    <tr>\n",
       "      <th>0</th>\n",
       "      <td>Sunny</td>\n",
       "      <td>Hot</td>\n",
       "      <td>High</td>\n",
       "      <td>Weak</td>\n",
       "    </tr>\n",
       "    <tr>\n",
       "      <th>1</th>\n",
       "      <td>Sunny</td>\n",
       "      <td>Hot</td>\n",
       "      <td>High</td>\n",
       "      <td>Strong</td>\n",
       "    </tr>\n",
       "    <tr>\n",
       "      <th>2</th>\n",
       "      <td>Overcast</td>\n",
       "      <td>Hot</td>\n",
       "      <td>High</td>\n",
       "      <td>Weak</td>\n",
       "    </tr>\n",
       "    <tr>\n",
       "      <th>3</th>\n",
       "      <td>Rain</td>\n",
       "      <td>Mild</td>\n",
       "      <td>High</td>\n",
       "      <td>Weak</td>\n",
       "    </tr>\n",
       "    <tr>\n",
       "      <th>4</th>\n",
       "      <td>Rain</td>\n",
       "      <td>Cool</td>\n",
       "      <td>Normal</td>\n",
       "      <td>Weak</td>\n",
       "    </tr>\n",
       "    <tr>\n",
       "      <th>5</th>\n",
       "      <td>Rain</td>\n",
       "      <td>Cool</td>\n",
       "      <td>Normal</td>\n",
       "      <td>Strong</td>\n",
       "    </tr>\n",
       "    <tr>\n",
       "      <th>6</th>\n",
       "      <td>Overcast</td>\n",
       "      <td>Cool</td>\n",
       "      <td>Normal</td>\n",
       "      <td>Strong</td>\n",
       "    </tr>\n",
       "    <tr>\n",
       "      <th>7</th>\n",
       "      <td>Sunny</td>\n",
       "      <td>Mild</td>\n",
       "      <td>High</td>\n",
       "      <td>Weak</td>\n",
       "    </tr>\n",
       "    <tr>\n",
       "      <th>8</th>\n",
       "      <td>Sunny</td>\n",
       "      <td>Cool</td>\n",
       "      <td>Normal</td>\n",
       "      <td>Weak</td>\n",
       "    </tr>\n",
       "    <tr>\n",
       "      <th>9</th>\n",
       "      <td>Rain</td>\n",
       "      <td>Mild</td>\n",
       "      <td>Normal</td>\n",
       "      <td>Weak</td>\n",
       "    </tr>\n",
       "    <tr>\n",
       "      <th>10</th>\n",
       "      <td>Sunny</td>\n",
       "      <td>Mild</td>\n",
       "      <td>Normal</td>\n",
       "      <td>Strong</td>\n",
       "    </tr>\n",
       "    <tr>\n",
       "      <th>11</th>\n",
       "      <td>Overcast</td>\n",
       "      <td>Mild</td>\n",
       "      <td>High</td>\n",
       "      <td>Strong</td>\n",
       "    </tr>\n",
       "    <tr>\n",
       "      <th>12</th>\n",
       "      <td>Overcast</td>\n",
       "      <td>Hot</td>\n",
       "      <td>Normal</td>\n",
       "      <td>Weak</td>\n",
       "    </tr>\n",
       "    <tr>\n",
       "      <th>13</th>\n",
       "      <td>Rain</td>\n",
       "      <td>Mild</td>\n",
       "      <td>High</td>\n",
       "      <td>Strong</td>\n",
       "    </tr>\n",
       "  </tbody>\n",
       "</table>\n",
       "</div>"
      ],
      "text/plain": [
       "     outlook  temp humidity    wind\n",
       "0      Sunny   Hot     High    Weak\n",
       "1      Sunny   Hot     High  Strong\n",
       "2   Overcast   Hot     High    Weak\n",
       "3       Rain  Mild     High    Weak\n",
       "4       Rain  Cool   Normal    Weak\n",
       "5       Rain  Cool   Normal  Strong\n",
       "6   Overcast  Cool   Normal  Strong\n",
       "7      Sunny  Mild     High    Weak\n",
       "8      Sunny  Cool   Normal    Weak\n",
       "9       Rain  Mild   Normal    Weak\n",
       "10     Sunny  Mild   Normal  Strong\n",
       "11  Overcast  Mild     High  Strong\n",
       "12  Overcast   Hot   Normal    Weak\n",
       "13      Rain  Mild     High  Strong"
      ]
     },
     "execution_count": 16,
     "metadata": {},
     "output_type": "execute_result"
    }
   ],
   "source": [
    "X"
   ]
  },
  {
   "cell_type": "code",
   "execution_count": 17,
   "id": "ef56dee0",
   "metadata": {},
   "outputs": [
    {
     "data": {
      "text/plain": [
       "0      No\n",
       "1      No\n",
       "2     Yes\n",
       "3     Yes\n",
       "4     Yes\n",
       "5      No\n",
       "6     Yes\n",
       "7      No\n",
       "8     Yes\n",
       "9     Yes\n",
       "10    Yes\n",
       "11    Yes\n",
       "12    Yes\n",
       "13     No\n",
       "Name: play, dtype: object"
      ]
     },
     "execution_count": 17,
     "metadata": {},
     "output_type": "execute_result"
    }
   ],
   "source": [
    "y"
   ]
  },
  {
   "cell_type": "code",
   "execution_count": 18,
   "id": "a2b21343",
   "metadata": {},
   "outputs": [],
   "source": [
    "onehot_encoder = OneHotEncoder(sparse=False)\n",
    "X = onehot_encoder.fit_transform(X)"
   ]
  },
  {
   "cell_type": "code",
   "execution_count": 19,
   "id": "078ce167",
   "metadata": {},
   "outputs": [],
   "source": [
    "label_encoder = LabelEncoder()\n",
    "y = label_encoder.fit_transform(y)"
   ]
  },
  {
   "cell_type": "code",
   "execution_count": 20,
   "id": "76c3b904",
   "metadata": {},
   "outputs": [
    {
     "data": {
      "text/plain": [
       "array([0, 0, 1, 1, 1, 0, 1, 0, 1, 1, 1, 1, 1, 0])"
      ]
     },
     "execution_count": 20,
     "metadata": {},
     "output_type": "execute_result"
    }
   ],
   "source": [
    "y"
   ]
  },
  {
   "cell_type": "markdown",
   "id": "648309ac",
   "metadata": {},
   "source": [
    "i.e. 1==>'Yes', 0==>'No'"
   ]
  },
  {
   "cell_type": "code",
   "execution_count": 21,
   "id": "bd512f4c",
   "metadata": {},
   "outputs": [],
   "source": [
    "X_train, X_test, y_train, y_test = train_test_split(X, y, test_size=0.25, random_state=42)\n",
    "model = CategoricalNB()"
   ]
  },
  {
   "cell_type": "code",
   "execution_count": 22,
   "id": "59340e44",
   "metadata": {},
   "outputs": [
    {
     "data": {
      "text/plain": [
       "CategoricalNB()"
      ]
     },
     "execution_count": 22,
     "metadata": {},
     "output_type": "execute_result"
    }
   ],
   "source": [
    "model.fit(X_train, y_train)"
   ]
  },
  {
   "cell_type": "code",
   "execution_count": 23,
   "id": "379727e3",
   "metadata": {},
   "outputs": [
    {
     "data": {
      "text/plain": [
       "array([1, 0, 0, 1])"
      ]
     },
     "execution_count": 23,
     "metadata": {},
     "output_type": "execute_result"
    }
   ],
   "source": [
    "y_pred = model.predict(X_test)\n",
    "y_pred"
   ]
  },
  {
   "cell_type": "code",
   "execution_count": 24,
   "id": "ea4c99b7",
   "metadata": {},
   "outputs": [
    {
     "data": {
      "text/plain": [
       "0.75"
      ]
     },
     "execution_count": 24,
     "metadata": {},
     "output_type": "execute_result"
    }
   ],
   "source": [
    "accuracy = accuracy_score(y_test, y_pred)\n",
    "accuracy"
   ]
  },
  {
   "cell_type": "code",
   "execution_count": 25,
   "id": "8d3716b5",
   "metadata": {},
   "outputs": [
    {
     "data": {
      "image/png": "[encoded data removed]",
      "text/plain": [
       "<Figure size 640x480 with 1 Axes>"
      ]
     },
     "metadata": {},
     "output_type": "display_data"
    }
   ],
   "source": [
    "plt.plot(y_pred, label='Predicted')\n",
    "plt.plot(y_test, label='Actual')\n",
    "plt.legend()\n",
    "plt.show()"
   ]
  },
  {
   "cell_type": "code",
   "execution_count": 26,
   "id": "d0ad0e78",
   "metadata": {},
   "outputs": [],
   "source": [
    "data = pd.DataFrame([['Rain','Cool','High','Weak'],['Rain','Cool','High','Strong']])"
   ]
  },
  {
   "cell_type": "code",
   "execution_count": 27,
   "id": "15b0ea70",
   "metadata": {},
   "outputs": [
    {
     "name": "stderr",
     "output_type": "stream",
     "text": [
      "/Users/mukundhjayapal/opt/anaconda3/lib/python3.9/site-packages/sklearn/base.py:450: UserWarning: X does not have valid feature names, but OneHotEncoder was fitted with feature names\n",
      "  warnings.warn(\n"
     ]
    }
   ],
   "source": [
    "encoded = onehot_encoder.transform(data)"
   ]
  },
  {
   "cell_type": "code",
   "execution_count": 28,
   "id": "7dce016e",
   "metadata": {},
   "outputs": [
    {
     "data": {
      "text/plain": [
       "array([[0., 1., 0., 1., 0., 0., 1., 0., 0., 1.],\n",
       "       [0., 1., 0., 1., 0., 0., 1., 0., 1., 0.]])"
      ]
     },
     "execution_count": 28,
     "metadata": {},
     "output_type": "execute_result"
    }
   ],
   "source": [
    "encoded"
   ]
  },
  {
   "cell_type": "code",
   "execution_count": 29,
   "id": "87a0210b",
   "metadata": {},
   "outputs": [],
   "source": [
    "pred = model.predict(encoded)"
   ]
  },
  {
   "cell_type": "code",
   "execution_count": 30,
   "id": "95af501d",
   "metadata": {},
   "outputs": [
    {
     "data": {
      "text/plain": [
       "array([1, 0])"
      ]
     },
     "execution_count": 30,
     "metadata": {},
     "output_type": "execute_result"
    }
   ],
   "source": [
    "pred"
   ]
  },
  {
   "cell_type": "markdown",
   "id": "d4512192",
   "metadata": {},
   "source": [
    "therefore even in this case the prediction for <Rain, Cool, High>:\n",
    "at wind =Weak ==> 'Yes';\n",
    "at wind =Strong ==>'No'"
   ]
  },
  {
   "cell_type": "markdown",
   "id": "3984970d",
   "metadata": {},
   "source": [
    "# Q2. Music Emotion Recognition\n",
    "Assume you need to build a classifier for recognizing emotional content in music signals such as Mel Frequency Cepstral Coefficients (MFCCs), Tempo, Chromagram, Spectral and Harmonic features. There are four different classes of music emotions in the dataset: happy, sad, angry, and relax. (Dataset:  music.csv)\n",
    "Choose a suitable Naïve Bayes classifier model from Sklearn to perform the above task.\n",
    "Need to show all the pre-processing steps (normalization, encoding etc)\n",
    "Report accuracy"
   ]
  },
  {
   "cell_type": "code",
   "execution_count": 31,
   "id": "adbb8379",
   "metadata": {
    "scrolled": false
   },
   "outputs": [
    {
     "data": {
      "text/html": [
       "<div>\n",
       "<style scoped>\n",
       "    .dataframe tbody tr th:only-of-type {\n",
       "        vertical-align: middle;\n",
       "    }\n",
       "\n",
       "    .dataframe tbody tr th {\n",
       "        vertical-align: top;\n",
       "    }\n",
       "\n",
       "    .dataframe thead th {\n",
       "        text-align: right;\n",
       "    }\n",
       "</style>\n",
       "<table border=\"1\" class=\"dataframe\">\n",
       "  <thead>\n",
       "    <tr style=\"text-align: right;\">\n",
       "      <th></th>\n",
       "      <th>Class</th>\n",
       "      <th>_RMSenergy_Mean</th>\n",
       "      <th>_Lowenergy_Mean</th>\n",
       "      <th>_Fluctuation_Mean</th>\n",
       "      <th>_Tempo_Mean</th>\n",
       "      <th>_MFCC_Mean_1</th>\n",
       "      <th>_MFCC_Mean_2</th>\n",
       "      <th>_MFCC_Mean_3</th>\n",
       "      <th>_MFCC_Mean_4</th>\n",
       "      <th>_MFCC_Mean_5</th>\n",
       "      <th>...</th>\n",
       "      <th>_Chromagram_Mean_9</th>\n",
       "      <th>_Chromagram_Mean_10</th>\n",
       "      <th>_Chromagram_Mean_11</th>\n",
       "      <th>_Chromagram_Mean_12</th>\n",
       "      <th>_HarmonicChangeDetectionFunction_Mean</th>\n",
       "      <th>_HarmonicChangeDetectionFunction_Std</th>\n",
       "      <th>_HarmonicChangeDetectionFunction_Slope</th>\n",
       "      <th>_HarmonicChangeDetectionFunction_PeriodFreq</th>\n",
       "      <th>_HarmonicChangeDetectionFunction_PeriodAmp</th>\n",
       "      <th>_HarmonicChangeDetectionFunction_PeriodEntropy</th>\n",
       "    </tr>\n",
       "  </thead>\n",
       "  <tbody>\n",
       "    <tr>\n",
       "      <th>0</th>\n",
       "      <td>relax</td>\n",
       "      <td>0.052</td>\n",
       "      <td>0.591</td>\n",
       "      <td>9.136</td>\n",
       "      <td>130.043</td>\n",
       "      <td>3.997</td>\n",
       "      <td>0.363</td>\n",
       "      <td>0.887</td>\n",
       "      <td>0.078</td>\n",
       "      <td>0.221</td>\n",
       "      <td>...</td>\n",
       "      <td>0.426</td>\n",
       "      <td>1.000</td>\n",
       "      <td>0.008</td>\n",
       "      <td>0.101</td>\n",
       "      <td>0.316</td>\n",
       "      <td>0.261</td>\n",
       "      <td>0.018</td>\n",
       "      <td>1.035</td>\n",
       "      <td>0.593</td>\n",
       "      <td>0.970</td>\n",
       "    </tr>\n",
       "    <tr>\n",
       "      <th>1</th>\n",
       "      <td>relax</td>\n",
       "      <td>0.125</td>\n",
       "      <td>0.439</td>\n",
       "      <td>6.680</td>\n",
       "      <td>142.240</td>\n",
       "      <td>4.058</td>\n",
       "      <td>0.516</td>\n",
       "      <td>0.785</td>\n",
       "      <td>0.397</td>\n",
       "      <td>0.556</td>\n",
       "      <td>...</td>\n",
       "      <td>0.002</td>\n",
       "      <td>1.000</td>\n",
       "      <td>0.000</td>\n",
       "      <td>0.984</td>\n",
       "      <td>0.285</td>\n",
       "      <td>0.211</td>\n",
       "      <td>-0.082</td>\n",
       "      <td>3.364</td>\n",
       "      <td>0.702</td>\n",
       "      <td>0.967</td>\n",
       "    </tr>\n",
       "    <tr>\n",
       "      <th>2</th>\n",
       "      <td>relax</td>\n",
       "      <td>0.046</td>\n",
       "      <td>0.639</td>\n",
       "      <td>10.578</td>\n",
       "      <td>188.154</td>\n",
       "      <td>2.775</td>\n",
       "      <td>0.903</td>\n",
       "      <td>0.502</td>\n",
       "      <td>0.329</td>\n",
       "      <td>0.287</td>\n",
       "      <td>...</td>\n",
       "      <td>0.184</td>\n",
       "      <td>0.746</td>\n",
       "      <td>0.016</td>\n",
       "      <td>1.000</td>\n",
       "      <td>0.413</td>\n",
       "      <td>0.299</td>\n",
       "      <td>0.134</td>\n",
       "      <td>1.682</td>\n",
       "      <td>0.692</td>\n",
       "      <td>0.963</td>\n",
       "    </tr>\n",
       "    <tr>\n",
       "      <th>3</th>\n",
       "      <td>relax</td>\n",
       "      <td>0.135</td>\n",
       "      <td>0.603</td>\n",
       "      <td>10.442</td>\n",
       "      <td>65.991</td>\n",
       "      <td>2.841</td>\n",
       "      <td>1.552</td>\n",
       "      <td>0.612</td>\n",
       "      <td>0.351</td>\n",
       "      <td>0.011</td>\n",
       "      <td>...</td>\n",
       "      <td>0.038</td>\n",
       "      <td>1.000</td>\n",
       "      <td>0.161</td>\n",
       "      <td>0.757</td>\n",
       "      <td>0.422</td>\n",
       "      <td>0.265</td>\n",
       "      <td>0.042</td>\n",
       "      <td>0.354</td>\n",
       "      <td>0.743</td>\n",
       "      <td>0.968</td>\n",
       "    </tr>\n",
       "    <tr>\n",
       "      <th>4</th>\n",
       "      <td>relax</td>\n",
       "      <td>0.066</td>\n",
       "      <td>0.591</td>\n",
       "      <td>9.769</td>\n",
       "      <td>88.890</td>\n",
       "      <td>3.217</td>\n",
       "      <td>0.228</td>\n",
       "      <td>0.814</td>\n",
       "      <td>0.096</td>\n",
       "      <td>0.434</td>\n",
       "      <td>...</td>\n",
       "      <td>0.004</td>\n",
       "      <td>0.404</td>\n",
       "      <td>1.000</td>\n",
       "      <td>0.001</td>\n",
       "      <td>0.345</td>\n",
       "      <td>0.261</td>\n",
       "      <td>0.089</td>\n",
       "      <td>0.748</td>\n",
       "      <td>0.674</td>\n",
       "      <td>0.957</td>\n",
       "    </tr>\n",
       "  </tbody>\n",
       "</table>\n",
       "<p>5 rows × 51 columns</p>\n",
       "</div>"
      ],
      "text/plain": [
       "   Class  _RMSenergy_Mean  _Lowenergy_Mean  _Fluctuation_Mean  _Tempo_Mean  \\\n",
       "0  relax            0.052            0.591              9.136      130.043   \n",
       "1  relax            0.125            0.439              6.680      142.240   \n",
       "2  relax            0.046            0.639             10.578      188.154   \n",
       "3  relax            0.135            0.603             10.442       65.991   \n",
       "4  relax            0.066            0.591              9.769       88.890   \n",
       "\n",
       "   _MFCC_Mean_1  _MFCC_Mean_2  _MFCC_Mean_3  _MFCC_Mean_4  _MFCC_Mean_5  ...  \\\n",
       "0         3.997         0.363         0.887         0.078         0.221  ...   \n",
       "1         4.058         0.516         0.785         0.397         0.556  ...   \n",
       "2         2.775         0.903         0.502         0.329         0.287  ...   \n",
       "3         2.841         1.552         0.612         0.351         0.011  ...   \n",
       "4         3.217         0.228         0.814         0.096         0.434  ...   \n",
       "\n",
       "   _Chromagram_Mean_9  _Chromagram_Mean_10  _Chromagram_Mean_11  \\\n",
       "0               0.426                1.000                0.008   \n",
       "1               0.002                1.000                0.000   \n",
       "2               0.184                0.746                0.016   \n",
       "3               0.038                1.000                0.161   \n",
       "4               0.004                0.404                1.000   \n",
       "\n",
       "   _Chromagram_Mean_12  _HarmonicChangeDetectionFunction_Mean  \\\n",
       "0                0.101                                  0.316   \n",
       "1                0.984                                  0.285   \n",
       "2                1.000                                  0.413   \n",
       "3                0.757                                  0.422   \n",
       "4                0.001                                  0.345   \n",
       "\n",
       "   _HarmonicChangeDetectionFunction_Std  \\\n",
       "0                                 0.261   \n",
       "1                                 0.211   \n",
       "2                                 0.299   \n",
       "3                                 0.265   \n",
       "4                                 0.261   \n",
       "\n",
       "   _HarmonicChangeDetectionFunction_Slope  \\\n",
       "0                                   0.018   \n",
       "1                                  -0.082   \n",
       "2                                   0.134   \n",
       "3                                   0.042   \n",
       "4                                   0.089   \n",
       "\n",
       "   _HarmonicChangeDetectionFunction_PeriodFreq  \\\n",
       "0                                        1.035   \n",
       "1                                        3.364   \n",
       "2                                        1.682   \n",
       "3                                        0.354   \n",
       "4                                        0.748   \n",
       "\n",
       "   _HarmonicChangeDetectionFunction_PeriodAmp  \\\n",
       "0                                       0.593   \n",
       "1                                       0.702   \n",
       "2                                       0.692   \n",
       "3                                       0.743   \n",
       "4                                       0.674   \n",
       "\n",
       "   _HarmonicChangeDetectionFunction_PeriodEntropy  \n",
       "0                                           0.970  \n",
       "1                                           0.967  \n",
       "2                                           0.963  \n",
       "3                                           0.968  \n",
       "4                                           0.957  \n",
       "\n",
       "[5 rows x 51 columns]"
      ]
     },
     "execution_count": 31,
     "metadata": {},
     "output_type": "execute_result"
    }
   ],
   "source": [
    "df = pd.read_csv('music.csv')\n",
    "df.head()"
   ]
  },
  {
   "cell_type": "code",
   "execution_count": 32,
   "id": "9c4ff4fe",
   "metadata": {},
   "outputs": [
    {
     "data": {
      "text/plain": [
       "Index(['Class', '_RMSenergy_Mean', '_Lowenergy_Mean', '_Fluctuation_Mean',\n",
       "       '_Tempo_Mean', '_MFCC_Mean_1', '_MFCC_Mean_2', '_MFCC_Mean_3',\n",
       "       '_MFCC_Mean_4', '_MFCC_Mean_5', '_MFCC_Mean_6', '_MFCC_Mean_7',\n",
       "       '_MFCC_Mean_8', '_MFCC_Mean_9', '_MFCC_Mean_10', '_MFCC_Mean_11',\n",
       "       '_MFCC_Mean_12', '_MFCC_Mean_13', '_Roughness_Mean', '_Roughness_Slope',\n",
       "       '_Zero-crossingrate_Mean', '_AttackTime_Mean', '_AttackTime_Slope',\n",
       "       '_Rolloff_Mean', '_Eventdensity_Mean', '_Pulseclarity_Mean',\n",
       "       '_Brightness_Mean', '_Spectralcentroid_Mean', '_Spectralspread_Mean',\n",
       "       '_Spectralskewness_Mean', '_Spectralkurtosis_Mean',\n",
       "       '_Spectralflatness_Mean', '_EntropyofSpectrum_Mean',\n",
       "       '_Chromagram_Mean_1', '_Chromagram_Mean_2', '_Chromagram_Mean_3',\n",
       "       '_Chromagram_Mean_4', '_Chromagram_Mean_5', '_Chromagram_Mean_6',\n",
       "       '_Chromagram_Mean_7', '_Chromagram_Mean_8', '_Chromagram_Mean_9',\n",
       "       '_Chromagram_Mean_10', '_Chromagram_Mean_11', '_Chromagram_Mean_12',\n",
       "       '_HarmonicChangeDetectionFunction_Mean',\n",
       "       '_HarmonicChangeDetectionFunction_Std',\n",
       "       '_HarmonicChangeDetectionFunction_Slope',\n",
       "       '_HarmonicChangeDetectionFunction_PeriodFreq',\n",
       "       '_HarmonicChangeDetectionFunction_PeriodAmp',\n",
       "       '_HarmonicChangeDetectionFunction_PeriodEntropy'],\n",
       "      dtype='object')"
      ]
     },
     "execution_count": 32,
     "metadata": {},
     "output_type": "execute_result"
    }
   ],
   "source": [
    "df.columns"
   ]
  },
  {
   "cell_type": "code",
   "execution_count": 33,
   "id": "0577ea81",
   "metadata": {},
   "outputs": [],
   "source": [
    "X = df.iloc[:, 1:]\n",
    "y = df.iloc[:,0]"
   ]
  },
  {
   "cell_type": "code",
   "execution_count": 34,
   "id": "79a58c4e",
   "metadata": {},
   "outputs": [],
   "source": [
    "label_encoder = LabelEncoder()\n",
    "encoded_y = label_encoder.fit_transform(y)"
   ]
  },
  {
   "cell_type": "code",
   "execution_count": 35,
   "id": "c3481e60",
   "metadata": {},
   "outputs": [],
   "source": [
    "X_train, X_test, y_train, y_test = train_test_split(X, y, test_size=0.2, random_state=42)"
   ]
  },
  {
   "cell_type": "code",
   "execution_count": 36,
   "id": "41e4617a",
   "metadata": {},
   "outputs": [
    {
     "data": {
      "text/plain": [
       "GaussianNB()"
      ]
     },
     "execution_count": 36,
     "metadata": {},
     "output_type": "execute_result"
    }
   ],
   "source": [
    "from sklearn.naive_bayes import GaussianNB\n",
    "model = GaussianNB()\n",
    "model.fit(X_train, y_train)"
   ]
  },
  {
   "cell_type": "code",
   "execution_count": 37,
   "id": "815b2615",
   "metadata": {},
   "outputs": [
    {
     "data": {
      "text/plain": [
       "0.675"
      ]
     },
     "execution_count": 37,
     "metadata": {},
     "output_type": "execute_result"
    }
   ],
   "source": [
    "y_pred = model.predict(X_test)\n",
    "accuracy = accuracy_score(y_test, y_pred)\n",
    "accuracy"
   ]
  },
  {
   "cell_type": "code",
   "execution_count": 38,
   "id": "c1168154",
   "metadata": {},
   "outputs": [
    {
     "data": {
      "text/plain": [
       "209      sad\n",
       "280      sad\n",
       "33     relax\n",
       "210      sad\n",
       "93     relax\n",
       "       ...  \n",
       "246      sad\n",
       "227      sad\n",
       "369    angry\n",
       "176    happy\n",
       "289      sad\n",
       "Name: Class, Length: 80, dtype: object"
      ]
     },
     "execution_count": 38,
     "metadata": {},
     "output_type": "execute_result"
    }
   ],
   "source": [
    "y_test"
   ]
  },
  {
   "cell_type": "code",
   "execution_count": 39,
   "id": "8dbc9707",
   "metadata": {},
   "outputs": [
    {
     "data": {
      "text/plain": [
       "array(['happy', 'sad', 'relax', 'sad', 'relax', 'relax', 'sad', 'sad',\n",
       "       'sad', 'happy', 'sad', 'angry', 'relax', 'relax', 'happy', 'angry',\n",
       "       'angry', 'angry', 'sad', 'angry', 'sad', 'relax', 'happy', 'angry',\n",
       "       'relax', 'angry', 'happy', 'sad', 'angry', 'happy', 'angry',\n",
       "       'happy', 'relax', 'relax', 'relax', 'happy', 'happy', 'angry',\n",
       "       'happy', 'happy', 'angry', 'relax', 'relax', 'relax', 'relax',\n",
       "       'angry', 'happy', 'happy', 'relax', 'happy', 'relax', 'happy',\n",
       "       'happy', 'relax', 'angry', 'relax', 'relax', 'sad', 'relax',\n",
       "       'happy', 'angry', 'happy', 'happy', 'relax', 'happy', 'relax',\n",
       "       'happy', 'sad', 'happy', 'relax', 'relax', 'happy', 'sad', 'relax',\n",
       "       'angry', 'angry', 'happy', 'angry', 'happy', 'relax'], dtype='<U5')"
      ]
     },
     "execution_count": 39,
     "metadata": {},
     "output_type": "execute_result"
    }
   ],
   "source": [
    "y_pred"
   ]
  },
  {
   "cell_type": "code",
   "execution_count": 40,
   "id": "38508e76",
   "metadata": {},
   "outputs": [
    {
     "data": {
      "image/png": "[encoded data removed]",
      "text/plain": [
       "<Figure size 640x480 with 1 Axes>"
      ]
     },
     "metadata": {},
     "output_type": "display_data"
    }
   ],
   "source": [
    "sns.scatterplot(x=X_test['_RMSenergy_Mean'], y=y_pred)\n",
    "sns.set_style('whitegrid')\n",
    "sns.despine()\n",
    "plt.xlabel('RSM energy Mean')\n",
    "plt.ylabel('Predicted y values')\n",
    "plt.show()"
   ]
  },
  {
   "cell_type": "code",
   "execution_count": 41,
   "id": "112dea95",
   "metadata": {},
   "outputs": [
    {
     "data": {
      "text/plain": [
       "<matplotlib.collections.PathCollection at 0x7fa498199a30>"
      ]
     },
     "execution_count": 41,
     "metadata": {},
     "output_type": "execute_result"
    },
    {
     "data": {
      "image/png": "[encoded data removed]",
      "text/plain": [
       "<Figure size 640x480 with 1 Axes>"
      ]
     },
     "metadata": {},
     "output_type": "display_data"
    }
   ],
   "source": [
    "plt.scatter(X_test['_RMSenergy_Mean'],y_pred,color='red')\n",
    "plt.scatter(X_test['_RMSenergy_Mean'],y_test,color='blue')"
   ]
  },
  {
   "cell_type": "markdown",
   "id": "906930c0",
   "metadata": {},
   "source": [
    "the above figure shows the deviations in predicted and actual values for different RMS energy values"
   ]
  }
 ],
 "metadata": {
  "kernelspec": {
   "display_name": "Python 3 (ipykernel)",
   "language": "python",
   "name": "python3"
  },
  "language_info": {
   "codemirror_mode": {
    "name": "ipython",
    "version": 3
   },
   "file_extension": ".py",
   "mimetype": "text/x-python",
   "name": "python",
   "nbconvert_exporter": "python",
   "pygments_lexer": "ipython3",
   "version": "3.9.13"
  }
 },
 "nbformat": 4,
 "nbformat_minor": 5
}
