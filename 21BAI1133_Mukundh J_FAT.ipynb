{
 "cells": [
  {
   "cell_type": "markdown",
   "id": "7c3f96bd",
   "metadata": {},
   "source": [
    "# 21BAI1133\n",
    "\n",
    "Q. Suppose you have been appointed as a data analyst in a biological research institute. You have been assigned a task of predicting the variety of seeds. The features are collected using scanned images of the seeds. You can use various features of the scanned image of seeds such as area, perimeter, etc. (refer seed.csv).\n",
    "\n",
    "A.    Implement a suitable machine learning model for predicting variety of the seed. Assume your model uses a linear hypothesis function. You are allowed to use Scikit library for building the machine learning mode. (20 marks)\n",
    "\n",
    "B.     Not all the features will equally contribute for the seed variety prediction. So pick top two features (f1 and f2) such that their per-class standard deviation difference is more as compared to other features.  Per-class standard deviation of a feature f1 is computed as follows (20 marks)\n",
    "\n",
    "·         Fetch all the values of feature f1 pertaining to target=v1; find standard deviation. Lets call this value as a.\n",
    "\n",
    "·         Fetch all the values of feature f2 pertaining to target=v2; find standard deviation. Lets call this value as b.\n",
    "\n",
    "·         Find abs(a-b)\n",
    "\n",
    "·         Select top two features having max value for abs(a-b)\n",
    "\n",
    " \n",
    "\n",
    "C.     Modify your model implementation in A part to include only two features f1 and f2 as defined in B, and test the model. Recompute the validation metrics for the modified model.  (10 marks)"
   ]
  },
  {
   "cell_type": "markdown",
   "id": "ff863234",
   "metadata": {},
   "source": [
    "# A"
   ]
  },
  {
   "cell_type": "code",
   "execution_count": 1,
   "id": "ed041e90",
   "metadata": {},
   "outputs": [],
   "source": [
    "#WE WILL BE USING : Logistic Regression\n",
    "import pandas as pd\n",
    "import numpy as np\n",
    "import seaborn as sns\n",
    "import matplotlib.pyplot as plt"
   ]
  },
  {
   "cell_type": "code",
   "execution_count": 2,
   "id": "66cd913b",
   "metadata": {},
   "outputs": [],
   "source": [
    "from sklearn.model_selection import train_test_split\n",
    "from sklearn.linear_model import LogisticRegression\n",
    "from sklearn.metrics import accuracy_score, classification_report\n",
    "data = pd.read_csv('seed.csv')"
   ]
  },
  {
   "cell_type": "code",
   "execution_count": 3,
   "id": "178ae01c",
   "metadata": {},
   "outputs": [
    {
     "data": {
      "text/html": [
       "<div>\n",
       "<style scoped>\n",
       "    .dataframe tbody tr th:only-of-type {\n",
       "        vertical-align: middle;\n",
       "    }\n",
       "\n",
       "    .dataframe tbody tr th {\n",
       "        vertical-align: top;\n",
       "    }\n",
       "\n",
       "    .dataframe thead th {\n",
       "        text-align: right;\n",
       "    }\n",
       "</style>\n",
       "<table border=\"1\" class=\"dataframe\">\n",
       "  <thead>\n",
       "    <tr style=\"text-align: right;\">\n",
       "      <th></th>\n",
       "      <th>Area</th>\n",
       "      <th>Perimeter</th>\n",
       "      <th>ConvexArea</th>\n",
       "      <th>EquivDiameter</th>\n",
       "      <th>Extent</th>\n",
       "      <th>Solidity</th>\n",
       "      <th>roundness</th>\n",
       "      <th>Compactness</th>\n",
       "      <th>Class</th>\n",
       "    </tr>\n",
       "  </thead>\n",
       "  <tbody>\n",
       "    <tr>\n",
       "      <th>0</th>\n",
       "      <td>28395.0</td>\n",
       "      <td>610.291</td>\n",
       "      <td>28715.0</td>\n",
       "      <td>190.141097</td>\n",
       "      <td>0.763923</td>\n",
       "      <td>0.988856</td>\n",
       "      <td>0.958027</td>\n",
       "      <td>0.913358</td>\n",
       "      <td>V1</td>\n",
       "    </tr>\n",
       "    <tr>\n",
       "      <th>1</th>\n",
       "      <td>28734.0</td>\n",
       "      <td>638.018</td>\n",
       "      <td>29172.0</td>\n",
       "      <td>191.272751</td>\n",
       "      <td>0.783968</td>\n",
       "      <td>0.984986</td>\n",
       "      <td>0.887034</td>\n",
       "      <td>0.953861</td>\n",
       "      <td>V1</td>\n",
       "    </tr>\n",
       "    <tr>\n",
       "      <th>2</th>\n",
       "      <td>29380.0</td>\n",
       "      <td>624.110</td>\n",
       "      <td>29690.0</td>\n",
       "      <td>193.410904</td>\n",
       "      <td>0.778113</td>\n",
       "      <td>0.989559</td>\n",
       "      <td>0.947849</td>\n",
       "      <td>0.908774</td>\n",
       "      <td>V1</td>\n",
       "    </tr>\n",
       "    <tr>\n",
       "      <th>3</th>\n",
       "      <td>30008.0</td>\n",
       "      <td>645.884</td>\n",
       "      <td>30724.0</td>\n",
       "      <td>195.467062</td>\n",
       "      <td>0.782681</td>\n",
       "      <td>0.976696</td>\n",
       "      <td>0.903936</td>\n",
       "      <td>0.928329</td>\n",
       "      <td>V1</td>\n",
       "    </tr>\n",
       "    <tr>\n",
       "      <th>4</th>\n",
       "      <td>30140.0</td>\n",
       "      <td>620.134</td>\n",
       "      <td>30417.0</td>\n",
       "      <td>195.896503</td>\n",
       "      <td>0.773098</td>\n",
       "      <td>0.990893</td>\n",
       "      <td>0.984877</td>\n",
       "      <td>0.970516</td>\n",
       "      <td>V1</td>\n",
       "    </tr>\n",
       "  </tbody>\n",
       "</table>\n",
       "</div>"
      ],
      "text/plain": [
       "      Area  Perimeter  ConvexArea  EquivDiameter    Extent  Solidity  \\\n",
       "0  28395.0    610.291     28715.0     190.141097  0.763923  0.988856   \n",
       "1  28734.0    638.018     29172.0     191.272751  0.783968  0.984986   \n",
       "2  29380.0    624.110     29690.0     193.410904  0.778113  0.989559   \n",
       "3  30008.0    645.884     30724.0     195.467062  0.782681  0.976696   \n",
       "4  30140.0    620.134     30417.0     195.896503  0.773098  0.990893   \n",
       "\n",
       "   roundness  Compactness Class  \n",
       "0   0.958027     0.913358    V1  \n",
       "1   0.887034     0.953861    V1  \n",
       "2   0.947849     0.908774    V1  \n",
       "3   0.903936     0.928329    V1  \n",
       "4   0.984877     0.970516    V1  "
      ]
     },
     "execution_count": 3,
     "metadata": {},
     "output_type": "execute_result"
    }
   ],
   "source": [
    "data.head()"
   ]
  },
  {
   "cell_type": "code",
   "execution_count": 4,
   "id": "cfeeb641",
   "metadata": {},
   "outputs": [
    {
     "data": {
      "text/html": [
       "<div>\n",
       "<style scoped>\n",
       "    .dataframe tbody tr th:only-of-type {\n",
       "        vertical-align: middle;\n",
       "    }\n",
       "\n",
       "    .dataframe tbody tr th {\n",
       "        vertical-align: top;\n",
       "    }\n",
       "\n",
       "    .dataframe thead th {\n",
       "        text-align: right;\n",
       "    }\n",
       "</style>\n",
       "<table border=\"1\" class=\"dataframe\">\n",
       "  <thead>\n",
       "    <tr style=\"text-align: right;\">\n",
       "      <th></th>\n",
       "      <th>Area</th>\n",
       "      <th>Perimeter</th>\n",
       "      <th>ConvexArea</th>\n",
       "      <th>EquivDiameter</th>\n",
       "      <th>Extent</th>\n",
       "      <th>Solidity</th>\n",
       "      <th>roundness</th>\n",
       "      <th>Compactness</th>\n",
       "      <th>Class</th>\n",
       "    </tr>\n",
       "  </thead>\n",
       "  <tbody>\n",
       "    <tr>\n",
       "      <th>13606</th>\n",
       "      <td>NaN</td>\n",
       "      <td>NaN</td>\n",
       "      <td>NaN</td>\n",
       "      <td>NaN</td>\n",
       "      <td>NaN</td>\n",
       "      <td>NaN</td>\n",
       "      <td>NaN</td>\n",
       "      <td>NaN</td>\n",
       "      <td>NaN</td>\n",
       "    </tr>\n",
       "    <tr>\n",
       "      <th>13607</th>\n",
       "      <td>NaN</td>\n",
       "      <td>NaN</td>\n",
       "      <td>NaN</td>\n",
       "      <td>NaN</td>\n",
       "      <td>NaN</td>\n",
       "      <td>NaN</td>\n",
       "      <td>NaN</td>\n",
       "      <td>NaN</td>\n",
       "      <td>NaN</td>\n",
       "    </tr>\n",
       "    <tr>\n",
       "      <th>13608</th>\n",
       "      <td>NaN</td>\n",
       "      <td>NaN</td>\n",
       "      <td>NaN</td>\n",
       "      <td>NaN</td>\n",
       "      <td>NaN</td>\n",
       "      <td>NaN</td>\n",
       "      <td>NaN</td>\n",
       "      <td>NaN</td>\n",
       "      <td>NaN</td>\n",
       "    </tr>\n",
       "    <tr>\n",
       "      <th>13609</th>\n",
       "      <td>NaN</td>\n",
       "      <td>NaN</td>\n",
       "      <td>NaN</td>\n",
       "      <td>NaN</td>\n",
       "      <td>NaN</td>\n",
       "      <td>NaN</td>\n",
       "      <td>NaN</td>\n",
       "      <td>NaN</td>\n",
       "      <td>NaN</td>\n",
       "    </tr>\n",
       "    <tr>\n",
       "      <th>13610</th>\n",
       "      <td>NaN</td>\n",
       "      <td>NaN</td>\n",
       "      <td>NaN</td>\n",
       "      <td>NaN</td>\n",
       "      <td>NaN</td>\n",
       "      <td>NaN</td>\n",
       "      <td>NaN</td>\n",
       "      <td>NaN</td>\n",
       "      <td>NaN</td>\n",
       "    </tr>\n",
       "  </tbody>\n",
       "</table>\n",
       "</div>"
      ],
      "text/plain": [
       "       Area  Perimeter  ConvexArea  EquivDiameter  Extent  Solidity  \\\n",
       "13606   NaN        NaN         NaN            NaN     NaN       NaN   \n",
       "13607   NaN        NaN         NaN            NaN     NaN       NaN   \n",
       "13608   NaN        NaN         NaN            NaN     NaN       NaN   \n",
       "13609   NaN        NaN         NaN            NaN     NaN       NaN   \n",
       "13610   NaN        NaN         NaN            NaN     NaN       NaN   \n",
       "\n",
       "       roundness  Compactness Class  \n",
       "13606        NaN          NaN   NaN  \n",
       "13607        NaN          NaN   NaN  \n",
       "13608        NaN          NaN   NaN  \n",
       "13609        NaN          NaN   NaN  \n",
       "13610        NaN          NaN   NaN  "
      ]
     },
     "execution_count": 4,
     "metadata": {},
     "output_type": "execute_result"
    }
   ],
   "source": [
    "data.tail()"
   ]
  },
  {
   "cell_type": "code",
   "execution_count": 5,
   "id": "d2f9b8a5",
   "metadata": {},
   "outputs": [
    {
     "data": {
      "text/plain": [
       "Area             10262\n",
       "Perimeter        10262\n",
       "ConvexArea       10262\n",
       "EquivDiameter    10262\n",
       "Extent           10262\n",
       "Solidity         10262\n",
       "roundness        10262\n",
       "Compactness      10262\n",
       "Class            10262\n",
       "dtype: int64"
      ]
     },
     "execution_count": 5,
     "metadata": {},
     "output_type": "execute_result"
    }
   ],
   "source": [
    "data.isnull().sum()"
   ]
  },
  {
   "cell_type": "markdown",
   "id": "8620b6c6",
   "metadata": {},
   "source": [
    "###### we conclude that there exists rows with null values"
   ]
  },
  {
   "cell_type": "code",
   "execution_count": 6,
   "id": "37c241c1",
   "metadata": {},
   "outputs": [
    {
     "data": {
      "text/html": [
       "<div>\n",
       "<style scoped>\n",
       "    .dataframe tbody tr th:only-of-type {\n",
       "        vertical-align: middle;\n",
       "    }\n",
       "\n",
       "    .dataframe tbody tr th {\n",
       "        vertical-align: top;\n",
       "    }\n",
       "\n",
       "    .dataframe thead th {\n",
       "        text-align: right;\n",
       "    }\n",
       "</style>\n",
       "<table border=\"1\" class=\"dataframe\">\n",
       "  <thead>\n",
       "    <tr style=\"text-align: right;\">\n",
       "      <th></th>\n",
       "      <th>Area</th>\n",
       "      <th>Perimeter</th>\n",
       "      <th>ConvexArea</th>\n",
       "      <th>EquivDiameter</th>\n",
       "      <th>Extent</th>\n",
       "      <th>Solidity</th>\n",
       "      <th>roundness</th>\n",
       "      <th>Compactness</th>\n",
       "    </tr>\n",
       "  </thead>\n",
       "  <tbody>\n",
       "    <tr>\n",
       "      <th>count</th>\n",
       "      <td>3349.000000</td>\n",
       "      <td>3349.000000</td>\n",
       "      <td>3349.000000</td>\n",
       "      <td>3349.000000</td>\n",
       "      <td>3349.000000</td>\n",
       "      <td>3349.000000</td>\n",
       "      <td>3349.000000</td>\n",
       "      <td>3349.000000</td>\n",
       "    </tr>\n",
       "    <tr>\n",
       "      <th>mean</th>\n",
       "      <td>51693.179755</td>\n",
       "      <td>853.372307</td>\n",
       "      <td>52410.399224</td>\n",
       "      <td>253.513184</td>\n",
       "      <td>0.762831</td>\n",
       "      <td>0.987372</td>\n",
       "      <td>0.887543</td>\n",
       "      <td>0.860588</td>\n",
       "    </tr>\n",
       "    <tr>\n",
       "      <th>std</th>\n",
       "      <td>16413.178607</td>\n",
       "      <td>169.673227</td>\n",
       "      <td>16828.627216</td>\n",
       "      <td>39.361511</td>\n",
       "      <td>0.031300</td>\n",
       "      <td>0.005056</td>\n",
       "      <td>0.080816</td>\n",
       "      <td>0.054375</td>\n",
       "    </tr>\n",
       "    <tr>\n",
       "      <th>min</th>\n",
       "      <td>28395.000000</td>\n",
       "      <td>610.291000</td>\n",
       "      <td>28715.000000</td>\n",
       "      <td>190.141097</td>\n",
       "      <td>0.639787</td>\n",
       "      <td>0.919246</td>\n",
       "      <td>0.593708</td>\n",
       "      <td>0.714494</td>\n",
       "    </tr>\n",
       "    <tr>\n",
       "      <th>25%</th>\n",
       "      <td>38284.000000</td>\n",
       "      <td>711.966000</td>\n",
       "      <td>38651.000000</td>\n",
       "      <td>220.782025</td>\n",
       "      <td>0.747659</td>\n",
       "      <td>0.984032</td>\n",
       "      <td>0.815674</td>\n",
       "      <td>0.811791</td>\n",
       "    </tr>\n",
       "    <tr>\n",
       "      <th>50%</th>\n",
       "      <td>44290.000000</td>\n",
       "      <td>769.972000</td>\n",
       "      <td>44681.000000</td>\n",
       "      <td>237.469534</td>\n",
       "      <td>0.769472</td>\n",
       "      <td>0.989121</td>\n",
       "      <td>0.926886</td>\n",
       "      <td>0.874592</td>\n",
       "    </tr>\n",
       "    <tr>\n",
       "      <th>75%</th>\n",
       "      <td>66437.000000</td>\n",
       "      <td>1016.789000</td>\n",
       "      <td>67735.000000</td>\n",
       "      <td>290.843971</td>\n",
       "      <td>0.784399</td>\n",
       "      <td>0.991308</td>\n",
       "      <td>0.955628</td>\n",
       "      <td>0.904017</td>\n",
       "    </tr>\n",
       "    <tr>\n",
       "      <th>max</th>\n",
       "      <td>115967.000000</td>\n",
       "      <td>1359.763000</td>\n",
       "      <td>118497.000000</td>\n",
       "      <td>384.257427</td>\n",
       "      <td>0.840577</td>\n",
       "      <td>0.994213</td>\n",
       "      <td>0.990685</td>\n",
       "      <td>0.987303</td>\n",
       "    </tr>\n",
       "  </tbody>\n",
       "</table>\n",
       "</div>"
      ],
      "text/plain": [
       "                Area    Perimeter     ConvexArea  EquivDiameter       Extent  \\\n",
       "count    3349.000000  3349.000000    3349.000000    3349.000000  3349.000000   \n",
       "mean    51693.179755   853.372307   52410.399224     253.513184     0.762831   \n",
       "std     16413.178607   169.673227   16828.627216      39.361511     0.031300   \n",
       "min     28395.000000   610.291000   28715.000000     190.141097     0.639787   \n",
       "25%     38284.000000   711.966000   38651.000000     220.782025     0.747659   \n",
       "50%     44290.000000   769.972000   44681.000000     237.469534     0.769472   \n",
       "75%     66437.000000  1016.789000   67735.000000     290.843971     0.784399   \n",
       "max    115967.000000  1359.763000  118497.000000     384.257427     0.840577   \n",
       "\n",
       "          Solidity    roundness  Compactness  \n",
       "count  3349.000000  3349.000000  3349.000000  \n",
       "mean      0.987372     0.887543     0.860588  \n",
       "std       0.005056     0.080816     0.054375  \n",
       "min       0.919246     0.593708     0.714494  \n",
       "25%       0.984032     0.815674     0.811791  \n",
       "50%       0.989121     0.926886     0.874592  \n",
       "75%       0.991308     0.955628     0.904017  \n",
       "max       0.994213     0.990685     0.987303  "
      ]
     },
     "execution_count": 6,
     "metadata": {},
     "output_type": "execute_result"
    }
   ],
   "source": [
    "data.describe()"
   ]
  },
  {
   "cell_type": "code",
   "execution_count": 7,
   "id": "4e0ff0c8",
   "metadata": {},
   "outputs": [
    {
     "data": {
      "text/plain": [
       "(13611, 9)"
      ]
     },
     "execution_count": 7,
     "metadata": {},
     "output_type": "execute_result"
    }
   ],
   "source": [
    "data.shape"
   ]
  },
  {
   "cell_type": "code",
   "execution_count": 8,
   "id": "de388053",
   "metadata": {},
   "outputs": [
    {
     "name": "stdout",
     "output_type": "stream",
     "text": [
      "<class 'pandas.core.frame.DataFrame'>\n",
      "RangeIndex: 13611 entries, 0 to 13610\n",
      "Data columns (total 9 columns):\n",
      " #   Column         Non-Null Count  Dtype  \n",
      "---  ------         --------------  -----  \n",
      " 0   Area           3349 non-null   float64\n",
      " 1   Perimeter      3349 non-null   float64\n",
      " 2   ConvexArea     3349 non-null   float64\n",
      " 3   EquivDiameter  3349 non-null   float64\n",
      " 4   Extent         3349 non-null   float64\n",
      " 5   Solidity       3349 non-null   float64\n",
      " 6   roundness      3349 non-null   float64\n",
      " 7   Compactness    3349 non-null   float64\n",
      " 8   Class          3349 non-null   object \n",
      "dtypes: float64(8), object(1)\n",
      "memory usage: 957.1+ KB\n"
     ]
    }
   ],
   "source": [
    "data.info()"
   ]
  },
  {
   "cell_type": "code",
   "execution_count": 9,
   "id": "afb2c6e3",
   "metadata": {
    "scrolled": false
   },
   "outputs": [
    {
     "data": {
      "image/png": "[encoded data removed]",
      "text/plain": [
       "<Figure size 640x480 with 2 Axes>"
      ]
     },
     "metadata": {},
     "output_type": "display_data"
    }
   ],
   "source": [
    "corre = data.corr()\n",
    "dataplot = sns.heatmap(corre, cmap=\"OrRd_r\", annot=True)"
   ]
  },
  {
   "cell_type": "markdown",
   "id": "63e4b301",
   "metadata": {},
   "source": [
    "#### Preprocessing"
   ]
  },
  {
   "cell_type": "code",
   "execution_count": 10,
   "id": "25ecea2b",
   "metadata": {},
   "outputs": [],
   "source": [
    "#data.fillna(data.mean(), inplace=True)\n",
    "###can use the above as more data is preferred to train a model by filling the data with average, \n",
    "###but the issue is that NaN would then be considered as a class by itself. So dropping is the best option.\n",
    "data=data.dropna()       "
   ]
  },
  {
   "cell_type": "code",
   "execution_count": 11,
   "id": "4b132e72",
   "metadata": {},
   "outputs": [
    {
     "data": {
      "text/plain": [
       "Area             0\n",
       "Perimeter        0\n",
       "ConvexArea       0\n",
       "EquivDiameter    0\n",
       "Extent           0\n",
       "Solidity         0\n",
       "roundness        0\n",
       "Compactness      0\n",
       "Class            0\n",
       "dtype: int64"
      ]
     },
     "execution_count": 11,
     "metadata": {},
     "output_type": "execute_result"
    }
   ],
   "source": [
    "data.isnull().sum()"
   ]
  },
  {
   "cell_type": "code",
   "execution_count": 12,
   "id": "109c3539",
   "metadata": {},
   "outputs": [
    {
     "data": {
      "text/plain": [
       "(3349, 9)"
      ]
     },
     "execution_count": 12,
     "metadata": {},
     "output_type": "execute_result"
    }
   ],
   "source": [
    "data.shape"
   ]
  },
  {
   "cell_type": "code",
   "execution_count": 13,
   "id": "b4ac7ecd",
   "metadata": {},
   "outputs": [],
   "source": [
    "X = data.iloc[:,:-1]\n",
    "y = data[\"Class\"]"
   ]
  },
  {
   "cell_type": "code",
   "execution_count": 14,
   "id": "335cbafd",
   "metadata": {},
   "outputs": [
    {
     "data": {
      "text/plain": [
       "0       V1\n",
       "1       V1\n",
       "2       V1\n",
       "3       V1\n",
       "4       V1\n",
       "        ..\n",
       "3344    V2\n",
       "3345    V2\n",
       "3346    V2\n",
       "3347    V2\n",
       "3348    V2\n",
       "Name: Class, Length: 3349, dtype: object"
      ]
     },
     "execution_count": 14,
     "metadata": {},
     "output_type": "execute_result"
    }
   ],
   "source": [
    "y"
   ]
  },
  {
   "cell_type": "code",
   "execution_count": 15,
   "id": "7828c823",
   "metadata": {},
   "outputs": [],
   "source": [
    "from sklearn.preprocessing import LabelEncoder"
   ]
  },
  {
   "cell_type": "code",
   "execution_count": 16,
   "id": "95883916",
   "metadata": {},
   "outputs": [],
   "source": [
    "label_encoder = LabelEncoder()\n",
    "y = label_encoder.fit_transform(y)"
   ]
  },
  {
   "cell_type": "markdown",
   "id": "ff4b47b9",
   "metadata": {},
   "source": [
    "###### the \"Class\" column is of type \"object\" therefore encoding is necessary"
   ]
  },
  {
   "cell_type": "code",
   "execution_count": 17,
   "id": "c69d6ae4",
   "metadata": {},
   "outputs": [
    {
     "data": {
      "text/plain": [
       "array([0, 0, 0, ..., 1, 1, 1])"
      ]
     },
     "execution_count": 17,
     "metadata": {},
     "output_type": "execute_result"
    }
   ],
   "source": [
    "y"
   ]
  },
  {
   "cell_type": "markdown",
   "id": "79d6b834",
   "metadata": {},
   "source": [
    "Training the model:"
   ]
  },
  {
   "cell_type": "code",
   "execution_count": 18,
   "id": "951229c1",
   "metadata": {},
   "outputs": [
    {
     "data": {
      "text/plain": [
       "LogisticRegression()"
      ]
     },
     "execution_count": 18,
     "metadata": {},
     "output_type": "execute_result"
    }
   ],
   "source": [
    "X_train, X_test, y_train, y_test = train_test_split(X, y, test_size=0.2, random_state=42)\n",
    "from sklearn.preprocessing import StandardScaler\n",
    "scaler = StandardScaler()\n",
    "X_train = scaler.fit_transform(X_train)\n",
    "X_test = scaler.transform(X_test)\n",
    "model = LogisticRegression()\n",
    "model.fit(X_train, y_train)"
   ]
  },
  {
   "cell_type": "code",
   "execution_count": 19,
   "id": "5f4e8904",
   "metadata": {},
   "outputs": [],
   "source": [
    "y_pred = model.predict(X_test)"
   ]
  },
  {
   "cell_type": "code",
   "execution_count": 20,
   "id": "d45c2a90",
   "metadata": {},
   "outputs": [
    {
     "data": {
      "text/plain": [
       "<matplotlib.collections.PathCollection at 0x7fd62b62af70>"
      ]
     },
     "execution_count": 20,
     "metadata": {},
     "output_type": "execute_result"
    },
    {
     "data": {
      "image/png": "[encoded data removed]",
      "text/plain": [
       "<Figure size 640x480 with 1 Axes>"
      ]
     },
     "metadata": {},
     "output_type": "display_data"
    }
   ],
   "source": [
    "plt.scatter(X_test[:,0],y_test)\n",
    "plt.scatter(X_test[:,0],y_pred)"
   ]
  },
  {
   "cell_type": "code",
   "execution_count": 21,
   "id": "699799e4",
   "metadata": {},
   "outputs": [
    {
     "data": {
      "text/plain": [
       "0.9880597014925373"
      ]
     },
     "execution_count": 21,
     "metadata": {},
     "output_type": "execute_result"
    }
   ],
   "source": [
    "accuracy = accuracy_score(y_test, y_pred)\n",
    "accuracy"
   ]
  },
  {
   "cell_type": "markdown",
   "id": "a9c9d674",
   "metadata": {},
   "source": [
    "# B"
   ]
  },
  {
   "cell_type": "code",
   "execution_count": 22,
   "id": "c0c39c71",
   "metadata": {},
   "outputs": [
    {
     "name": "stdout",
     "output_type": "stream",
     "text": [
      "Top Two Features with Max Per-Class Standard Deviation Difference are:\n",
      "F1: ConvexArea, Difference: 5621.387461383627\n",
      "F2: Area, Difference: 5485.509058730779\n"
     ]
    }
   ],
   "source": [
    "import numpy as np\n",
    "grouped_data = data.groupby('Class')\n",
    "stdperclass = {}\n",
    "for feature in X.columns:\n",
    "    stdperclass[feature] = np.abs(grouped_data[feature].std().diff().max())\n",
    "top_features = sorted(stdperclass.items(), key=lambda x: x[1], reverse=True)[:2]\n",
    "\n",
    "f1, diff_f1 = top_features[0]\n",
    "f2, diff_f2 = top_features[1]\n",
    "\n",
    "print(\"Top Two Features with Max Per-Class Standard Deviation Difference are:\")\n",
    "print(f\"F1: {f1}, Difference: {diff_f1}\")\n",
    "print(f\"F2: {f2}, Difference: {diff_f2}\")\n"
   ]
  },
  {
   "cell_type": "markdown",
   "id": "28867d69",
   "metadata": {},
   "source": [
    "# C"
   ]
  },
  {
   "cell_type": "code",
   "execution_count": 29,
   "id": "6de90d73",
   "metadata": {},
   "outputs": [],
   "source": [
    "X_modified = data[[f1, f2]]\n",
    "X_train_mod, X_test_mod, y_train_mod, y_test_mod = train_test_split(X_modified, y, test_size=0.2, random_state=42)\n",
    "scaler = StandardScaler()\n",
    "X_train_mod = scaler.fit_transform(X_train_mod)\n",
    "X_test_mod = scaler.transform(X_test_mod)"
   ]
  },
  {
   "cell_type": "code",
   "execution_count": 30,
   "id": "07c33a3a",
   "metadata": {},
   "outputs": [
    {
     "data": {
      "text/plain": [
       "LogisticRegression()"
      ]
     },
     "execution_count": 30,
     "metadata": {},
     "output_type": "execute_result"
    }
   ],
   "source": [
    "model_modified = LogisticRegression()\n",
    "model_modified.fit(X_train_mod, y_train_mod)"
   ]
  },
  {
   "cell_type": "code",
   "execution_count": 31,
   "id": "6f82ff16",
   "metadata": {},
   "outputs": [],
   "source": [
    "y_pred_mod = model_modified.predict(X_test_mod)"
   ]
  },
  {
   "cell_type": "code",
   "execution_count": 32,
   "id": "3f347701",
   "metadata": {},
   "outputs": [
    {
     "data": {
      "image/png": "[encoded data removed]",
      "text/plain": [
       "<Figure size 640x480 with 1 Axes>"
      ]
     },
     "metadata": {},
     "output_type": "display_data"
    }
   ],
   "source": [
    "plt.plot(y_pred_mod, label='Predicted')\n",
    "plt.plot(y_test_mod, label='Actual')\n",
    "plt.legend()\n",
    "plt.show()"
   ]
  },
  {
   "cell_type": "code",
   "execution_count": 33,
   "id": "024e3470",
   "metadata": {},
   "outputs": [],
   "source": [
    "accuracy_mod = accuracy_score(y_test_mod, y_pred_mod)\n",
    "classification_report_str_mod = classification_report(y_test_mod, y_pred_mod)"
   ]
  },
  {
   "cell_type": "code",
   "execution_count": 34,
   "id": "0c642288",
   "metadata": {},
   "outputs": [
    {
     "name": "stdout",
     "output_type": "stream",
     "text": [
      "Modified Model's Accuracy: 0.9850746268656716\n",
      "Modified Model's Classification Report:\n",
      "              precision    recall  f1-score   support\n",
      "\n",
      "           0       0.99      0.98      0.99       433\n",
      "           1       0.97      0.99      0.98       237\n",
      "\n",
      "    accuracy                           0.99       670\n",
      "   macro avg       0.98      0.99      0.98       670\n",
      "weighted avg       0.99      0.99      0.99       670\n",
      "\n"
     ]
    }
   ],
   "source": [
    "print(f\"Modified Model's Accuracy: {accuracy_mod}\")\n",
    "print(\"Modified Model's Classification Report:\")\n",
    "print(classification_report_str_mod)"
   ]
  },
  {
   "cell_type": "markdown",
   "id": "0013613f",
   "metadata": {},
   "source": [
    "# On dropping all rows with null values, \n",
    "Accuracy in part A ==>98.8% ,\n",
    "Accuracy in part C ==> 98.57%\n",
    "\n",
    "# On filling all rows having null values with average,\n",
    "Accuracy in part A ==> 99.11% ,\n",
    "Accuracy in part C==> 93.6%"
   ]
  }
 ],
 "metadata": {
  "kernelspec": {
   "display_name": "Python 3 (ipykernel)",
   "language": "python",
   "name": "python3"
  },
  "language_info": {
   "codemirror_mode": {
    "name": "ipython",
    "version": 3
   },
   "file_extension": ".py",
   "mimetype": "text/x-python",
   "name": "python",
   "nbconvert_exporter": "python",
   "pygments_lexer": "ipython3",
   "version": "3.9.13"
  }
 },
 "nbformat": 4,
 "nbformat_minor": 5
}
